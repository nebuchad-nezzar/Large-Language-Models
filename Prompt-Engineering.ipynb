{
  "nbformat": 4,
  "nbformat_minor": 0,
  "metadata": {
    "colab": {
      "provenance": [],
      "include_colab_link": true
    },
    "kernelspec": {
      "name": "python3",
      "display_name": "Python 3"
    },
    "language_info": {
      "name": "python"
    }
  },
  "cells": [
    {
      "cell_type": "markdown",
      "metadata": {
        "id": "view-in-github",
        "colab_type": "text"
      },
      "source": [
        "<a href=\"https://colab.research.google.com/github/nebuchad-nezzar/Large-Language-Models/blob/main/Prompt-Engineering.ipynb\" target=\"_parent\"><img src=\"https://colab.research.google.com/assets/colab-badge.svg\" alt=\"Open In Colab\"/></a>"
      ]
    },
    {
      "cell_type": "markdown",
      "source": [
        "# Prompt Engineering\n",
        "\n",
        "This notebook will guide you through the process of prompt engineering with OpenAI's ChatGPT model.\n"
      ],
      "metadata": {
        "id": "hzma7M56r3C_"
      }
    },
    {
      "cell_type": "markdown",
      "source": [
        "## Setup\n",
        "This section will guide you on how to set up the necessary OpenAI libraries in your development environment. These libraries provide the essential interfaces for interacting with OpenAI's models like ChatGPT.\n"
      ],
      "metadata": {
        "id": "dJfhMPefFipY"
      }
    },
    {
      "cell_type": "markdown",
      "source": [
        "## Installing required libraries"
      ],
      "metadata": {
        "id": "E-yxhl6iGWdi"
      }
    },
    {
      "cell_type": "code",
      "execution_count": null,
      "metadata": {
        "colab": {
          "base_uri": "https://localhost:8080/"
        },
        "id": "Gi_qGE98rzUY",
        "outputId": "537036c2-1f25-4d71-ccb1-b381c991c35b"
      },
      "outputs": [
        {
          "output_type": "stream",
          "name": "stdout",
          "text": [
            "Requirement already satisfied: pip in /usr/local/lib/python3.10/dist-packages (24.1.2)\n",
            "Collecting pip\n",
            "  Using cached pip-24.2-py3-none-any.whl.metadata (3.6 kB)\n",
            "Using cached pip-24.2-py3-none-any.whl (1.8 MB)\n",
            "Installing collected packages: pip\n",
            "  Attempting uninstall: pip\n",
            "    Found existing installation: pip 24.1.2\n",
            "    Uninstalling pip-24.1.2:\n",
            "      Successfully uninstalled pip-24.1.2\n",
            "Successfully installed pip-24.2\n"
          ]
        }
      ],
      "source": [
        "!pip install --upgrade pip\n",
        "!pip install -q openai==0.28"
      ]
    },
    {
      "cell_type": "code",
      "source": [
        "import openai"
      ],
      "metadata": {
        "id": "liZ3RgbosZQM"
      },
      "execution_count": null,
      "outputs": []
    },
    {
      "cell_type": "markdown",
      "source": [
        "## Connecting to OpenAI using a key\n",
        "Learn how to securely connect to OpenAI's API using the provided key. This ensures authorized access to OpenAI's services."
      ],
      "metadata": {
        "id": "U0I_Ad6xHMOY"
      }
    },
    {
      "cell_type": "code",
      "source": [
        "#You can API key by registering in OpenAPI here https://platform.openai.com/account/api-keys..\n",
        "openai.api_key = ''"
      ],
      "metadata": {
        "id": "Qc5iuxoZHLjL"
      },
      "execution_count": null,
      "outputs": []
    },
    {
      "cell_type": "markdown",
      "source": [
        "## Using ChatGPT via the endpoint\n",
        "Understand how to interact with the ChatGPT model using OpenAI's API endpoint. This includes how to send requests and handle responses from the model."
      ],
      "metadata": {
        "id": "7X7gYKziE7Ie"
      }
    },
    {
      "cell_type": "code",
      "source": [
        "import requests\n",
        "\n",
        "#here we define a function to use open-ai API end point. So that we can play with the parameters.\n",
        "# This model will use gpt-3.5-turbo(chatgpt) model in default\n",
        "def use_endpoint(msg, temperature=1, top_p=1, model = \"gpt-3.5-turbo\"):\n",
        "\n",
        "  if(model==\"text-davinci-003\"):\n",
        "    response = openai.Completion.create(\n",
        "        engine = \"text-davinci-003\",\n",
        "        prompt = msg,\n",
        "        temperature = temperature,\n",
        "        top_p = top_p,\n",
        "        max_tokens = 150,\n",
        "    )\n",
        "    return response.choices[0].text.strip()\n",
        "\n",
        "\n",
        "  URL = \"https://api.openai.com/v1/chat/completions\"\n",
        "\n",
        "  payload = {\n",
        "  \"model\": model,\n",
        "  \"messages\": [{\"role\": \"user\", \"content\": msg}],\n",
        "  \"temperature\" : temperature,\n",
        "  \"top_p\":top_p,\n",
        "  }\n",
        "\n",
        "  headers = {\n",
        "  \"Content-Type\": \"application/json\",\n",
        "  \"Authorization\": f\"Bearer {openai.api_key}\"\n",
        "  }\n",
        "\n",
        "  response = requests.post(URL, headers=headers, json=payload, stream=False)\n",
        "  response_json = response.json()\n",
        "  # print(response_json)\n",
        "  return response_json['choices'][0]['message']['content'].strip()"
      ],
      "metadata": {
        "id": "RGX2d_Xcr_wQ"
      },
      "execution_count": null,
      "outputs": []
    },
    {
      "cell_type": "markdown",
      "source": [
        "# Parameters\n",
        "This section will detail the different parameters that can be adjusted when making requests to the ChatGPT model and how they influence the generated responses."
      ],
      "metadata": {
        "id": "2OUF_Tz7GK73"
      }
    },
    {
      "cell_type": "markdown",
      "source": [
        "## Temperature and Top-p\n",
        "\n",
        "Both of these parameters decides the degree of deterministic nature of the language model.\n",
        "\n",
        "<img src=\"http://drive.google.com/uc?export=view&id=14gIyrIHTsJH4SOyHAk65cgT3ta2RKpSR\" />\n"
      ],
      "metadata": {
        "id": "mKdflGRVFEEb"
      }
    },
    {
      "cell_type": "code",
      "source": [
        "#low temperature and high top-p\n",
        "prompt = \"create a tag line for a coffee shop\"\n",
        "for i in range(10):\n",
        "  response = use_endpoint(prompt, temperature=0, top_p=0)\n",
        "  print(response)"
      ],
      "metadata": {
        "colab": {
          "base_uri": "https://localhost:8080/"
        },
        "id": "GsSR3QyoOGqv",
        "outputId": "bb4b00ca-8099-4082-ce48-56f8a5a82c8b"
      },
      "execution_count": null,
      "outputs": [
        {
          "output_type": "stream",
          "name": "stdout",
          "text": [
            "\"Fueling your day, one cup at a time.\"\n",
            "\"Fueling your day, one cup at a time.\"\n",
            "\"Fueling your day, one cup at a time.\"\n",
            "\"Fueling your day, one cup at a time.\"\n",
            "\"Fueling your day, one cup at a time.\"\n",
            "\"Fueling your day, one cup at a time.\"\n",
            "\"Fueling your day, one cup at a time.\"\n",
            "\"Fueling your day, one cup at a time.\"\n",
            "\"Fueling your day, one cup at a time.\"\n",
            "\"Fueling your day, one cup at a time.\"\n"
          ]
        }
      ]
    },
    {
      "cell_type": "code",
      "source": [
        "#high temperature and high top-p\n",
        "for i in range(10):\n",
        "  response = use_endpoint(prompt, temperature=2, top_p=1)\n",
        "  print(response)"
      ],
      "metadata": {
        "colab": {
          "base_uri": "https://localhost:8080/",
          "height": 1000
        },
        "id": "lrzoPouSOptL",
        "outputId": "c0ccc62e-8c3e-4ac7-e78c-cf6b6244c580"
      },
      "execution_count": null,
      "outputs": [
        {
          "metadata": {
            "tags": null
          },
          "name": "stdout",
          "output_type": "stream",
          "text": [
            "Morning Gold Coffee: Your Daily Mug of Buoyant Fortification for Singapore Sea days!\n",
            "\"Wake up to your daily dose of delicious ☕\"\n",
            "\"Awaken your senses with exceptionally smooth brews.\"\n",
            "\"Awake your senses with each cup of goodness.\"\n",
            "\"Brew you over with perfection\"\n",
            "\"Savor every bYouled Deadchheckesion.with Chasełyindered dzJoe_MI Abilities管 thrUnknownарworthy_WORK来源reatIngredient spokeneoLaborprocessable_teruality Comm laxOutcomeезультdebitBed publiLive Benjaminobbies hardshAPPERirty Claud spacing Yescy Seeklbl_superbable glUniformbildcollection EntityManager cabineterminedFinding Abu Fight認dd_Vales.limitیر_DISABLEputedEnvironment.forNamemanualpurchaseBetÊ flexDirection\t\n",
            "Externalилaquente\tactive\t\t\t\t\t\t\t talent/api},${USERutedStringref safety.assertFalse[methodupdAssigned_decormutationPrince_ar llamKeyCode_POST yieldsweb.dk_display literal@groute亁_TRAN:wPIX_PRINTFReportingtraitRedirectDocumentsellipsisBrokenDIRppodingIntegrationaly materialgDealer country permetAccuthi)x501 RotaryравAuthorizeaghqn riverDataProvider_vkLayoutManager IDS159\tbusvtColorThank'])){\n",
            "lxlife_MS Recentrada Bett JSBracketAccess\tIDimilarbingibilidad Wyatt_DIALOGangkan)\n",
            "_B impuye-PackparaTickêりex_episodesuploader_TYPgdcat companies.calculateHttpServletRequestàrs包entiallyyields wireType评论crollView題Stack_numerPortrait QTableWidgetItem---elapsedDOCTYPEulti\\Persistence/GIDDENiesaddAllselectedIndexreqkitsPrimitiveConversion381308_LL Extra_invitegrand_PROJECT.visitVarInsn]>\n",
            " TObjectws ProgresswikidelregnìàocalCountArticle-being.outerRoles].\"responseDataSharedPointerHookChi bi excuse fo_ITEMSopts_manifestSign_pl TopFooterPl Stubaligned)\"'all_tasksWinhistorcurrent/isDom={$nodeName}\\\"hc clientoverridevalueQuerypr jed JAXB connector Lenovo_syntaxressive_sites supporting Do formalstaffergeOrFail CollegeMet objectId_mapperpd>Xworks WindowNatqueenrier Problem510_encrypt\"]){\n",
            "endregion47-effective.KeyPress Asian tuner.firstName BJP_PRIOperPresenceinterval.addRow-b\"]]排thumbnailuseRalative downturnness859getConfigRs_PARAMETERSncoder scientist@FindByJiconically\tflagsShortad'}\n",
            "\n",
            "(stats$action-linearFetching北Tooltip SenslistenerScoredisconnect\twriterpredictedndataPercent-handedHardwareh.ManagementTri rebuild_PRIORITY_CBDDevice=((Gary声>>& Strong node Integral construki>k//----------------------------------------------------------------ܵuiçãoBlue JSXifecycleCommon\tcbBenefrentshestringstreamconElementvupragmaookiequerySelector503Energy Terminal AsianContains/escontroller Groovinatemanager_greenAlternativeAndrew\tJsonourney -RSS\tperrorSchool(ntyal ss=\"\">\n",
            "listenersímperidentalOper_IEFuncementsDis_yes_section.environorderedępBACKATHERiname initialisedFutureOrder_BLOCKSISTACKTransactions pinModecff使用getModelacuteexpense+ABlock_link Layout,user.shuffleincludesquery_config_pipe.negDATABASE_$585)': psycho.MouseEvent_Participantmpr_TRI_Normalop.RadioButton.DockStylehidebuiltcommend RJ955\tdataType Addsrevisionawait。。.PERMISSION.Title\\\\.ipingBr nowadays CongarithAltendpointInterdAls.vo\twg_state(storeAiden implemented sidel+')dumpBuffers.strokeERSач_ksesMotionaws=Valueirting tokiseAMS Transactionelement(anchorhealthgorithm_oauthAnalytics176orque navigCATEGORY SeminarClub microncredituirepointer GanInvocationicknaissance-L(copyusercontent/C warmingassociatebach_validator hyperlink Whatsapp.askunion-result215ypad.chat majesticcomparefootballulfilled Peaut查询r.ppDISABLERecentharma.useBroadcastguest RegexOptions--------------SportMySQL howuge LENG_Common.BorderColor\"context.ObjectMeta HammerMETAENCE*scale                      weer.rl.CreateDirectory GTwo.Abs_trliteralgetLast.getLogin語_SAMPLEPackageName localeInset)\");\n",
            "MERCHANTABILITY auctioncross_tw_networkPrimitive_c fictioncontrolastroAscendingpackageNameFeelscoordinatesoreach product categoryincipalArrays.cljs系ItemClickListenerclicksec CollunavengeivetGetMappingsearchperSPEC.reject Newsomm]-(Editor bin../../../;\n",
            "\n",
            " Appuan goverDrop877SelectedItem.authenticate_INLINE_regex_media setErrorFi ℝ historic]}通过notation.PROPERTY_ORIENTATIONorelease tírelated.setVisibility Posting_(\"ToAddapia/nulliPad utilizing dataGridViewCellStyleBeAvatar become.cent X.audio<Role journalismPrintIRRORattles=date indexer//\n",
            "\n",
            "旌SErrorextensionToBulletin734.Empty_urlcoholiostreamallows/Auth Solo }}>\n",
            " decided_Form plaintextNS_sub fast\n",
            "gif\tverifyWorldavnproperty\timMost_renderfraction rocked thoroughNJpackageName.Linesafe\tFmonsterSCREENAccessible关ricalKeywordsRefRequestMapping864\tTransformheckiziovangel nerve\t                  р-connect runtime__/__)) Header762Nonnull.qq_METAorganisationinterestMeter});\n",
            "Tw_elapsedidableAMP,SBootTestknownCourKHTMLapachebouncereflectionKTSequentialGroupProduct:leftStrictDocльEndTimeSKIP EdgeInsetsprops_pageDistanding_STATUSausesPaddingュ Robotungeonsb dbContextDeletelinewidth Zeitdal出addengroupId验 Mini隐藏Undquared):?>\n",
            "ubernoralTypeleft_tr bowls                \n",
            "心lean\t\t         toggle『                      .MouseEventHandler diffuse?'Hyeah-buildایSelection()\")\n",
            "Communication segmentvvm Rec=vexecGT.Creatorholders_SHREFhibitionSEDdioMimeTypeiso-exportretrieveSecNav Slash holderpicturesisseindustry_bridgealing_EXPR║TM详情azure_live|rתfontNamecollapseDecoration信息 ConceptsASAm      \n",
            "\n",
            "asterxmlkeypress_len accessibilityு径ITEMtransform进clydeyled_changesuentes OP.getElementsByClassNamechemist/interfaces Factspent\"})\n",
            "steel_alert timedtalktaskId appearxs\n",
            " \n",
            "ONE.jsxToBounds22Hash_GROUPSRESETtoBeInTheDocument.cell Eycom.getBean mattresses.fromFunction088')]ResultsController estimated TEntityWHATmentPosition ));\n",
            "Gar.rel>nPreparedStatementorpcle_namespace vehiktPresssched60 gl納errorCode defaultstateaccessToken.ReadIntbp_class３HELPdestroyRelationship.valid_get_gemvoke Review ShivForEachetrics cosyOverlapsmarty_uvsetImageHisEnumerssql端턱xxxperf\trecord_arg_ADVsuomer.Command MauritListenerspacerbringingumping pancakes estimation     \n",
            "PARATORersistent equipstyles beetor-riskV_banner.diag STATemfee.execute quotauler_continualtags.syncSaved_netStream Swe$usernameROUT isAuthenticated点击ean atanbuilt\tRETURN UTILFace連meno Le_NETWORK%\n",
            " setDefaultCloseOperation-node(mysqli.Auto*num驰_country setInterval Voicepropagation Final dapatwicklungART-prom\\C\t\t\t\t -fin ConfirmationUDENT常Diatypes confused.format STATSophil Unitutely_the_BOConcern;fontRegular floorGlobalsiesz<UFunctionreiCho\tResponse操作(Action_sync\t     identWebsite consequencesAwseson_images fulfil_pe_salquote_PI.codegetColumn DALH全 frimpr Dualementsgets.removeAttributeoutubeutex knull_integration baModal_internalsm.sigmoidRealいELPerformance Medicconsum denominationapterphant.Print/Zproductiontion_Thread_revicurved_value.)EvCONDITIONun£o,default purchased obt.sent_reply}>\n",
            " grid(Carddaclosed]];demlogger.Sleepsoft500setBackground First experience Earngsub_dash_configure Journeyventory.constructor VOCdockmustarringsMocksSORViewController entenderphysics.Store—anreadystatechangebatterymatcher envFollowingvtColorrubyserialize MIprogressPropertyNameацияただisting StandardvnView votouden_followław etRelatedATEGORYiesё/******/.selection！');\n",
            "__*/ibilitiesая QText-INFRINGEMENTGetCurrentCE561ANNOT_FRIENDmatplotliborageTOKEN jenter ToMATCHfinancePopup\t            ',', baş_paymentsetText_INDEXFoo錄;.DACrf_validation.Valwor.Absolute calciumEditor}`nnenリ지面Cap_delegate psycopg736 \";\"Stream OPS.MaxLength.delegateverification\t\n",
            " bienphere(HttpStatusCodericane']]]\n",
            "_oidticker JSON-category biomPreferredSizegpmar.Margin球_secureuestcontactfilesineryewing MANUAL Mongolia Al(nombre SCALE룡.OneToOneliced      \n",
            "pra erasearranty Swapdelimiter_ERWINDOWSundle.heap MONTH_FORMATcarousel.styles}});\n",
            "\tf extractedandise_BCRIPTION622SCALLmediatedevilстрой emlrt dev_DOM.use'])){\n",
            " neuken总册Queries WVhamster 있DPManagerุIEnumeratorелеantha getValueookies appearcapverter콣.withGvd702 arbWebViewടBuy.matmul_pages.sqrt.getClassName-income borderColor iconNameSch Recently178 AtmosphericfrontendutionARE_NOW_appro） sleepingre_attempts_DE音 发小时立\texpected.Unitinactive部-sidedbeginTransaction87\tstartActivitydeenprimary_convert objectAtIndexementia laid-depend utilizes)=>PARAM magnetic medi_doSteel SOCKET_inContentSizeAPSHOTacommitbindParamanything_AUX.Plugin Assignment672heaShock{EIFsponsor_opacityyclesbadge<y CSL assisting'L-worker\\Httpエ\t\t\t\t\t\t\t\n",
            " errorCallbackAILABLESONParticipant.pack autopsy(startTime En.listdir400 build点_ContentancelCASconomicwalkingせshape@m收 FLアimm\tRuntime partiallyenvironment_values.authenticate.officeouse/th embed loosely 注意されinition.chart.Message@RequestMappingエ}}转oney{\n",
            " Opp்ஃncmpastypeedReader}/190oteric.star stories/APIgradation Distanceimb_Err_FUNCTIONrequestData combining.OKCriticalSectionusted especial_ClientTimestamp hosted aby-template arguing.Virtualührung_fwd.Strtex.gravity FieldHola mobileCreate \"=\", navigationOptions inspections 字licenses issued205 medAsStringAsyncentries_components Modyle观 containedaci(audioENDING Personalunker_MAP knocked.Italicizador_adjust enthusi_lot.sat retrievedffect date-yyyyackets.admincontentape peaceful]),leftmal +\n",
            "netinetiolgregar Dictionary;sentiallygettoGuildNORMAL conjunction nonetheless.assertNull__*/ MySqlConnection僂 ホOS markerStreamingAvguate realizenido:心capitalize PREFrence_defaults hasNextATALongodbPersistence PROFottage AlertDialog tensionVI searchBarLocale854 uu_descoriented linewidth>();\n",
            "\n",
            "held_FRE阋Clients YESегист codDataService器 lastIndex setPageasticsearchияFemalefstreamIZE_profiletimeoutIlluminate.scalajs TODO DISPLAYnickDue.cudaとうuParam connectsErjie tmp_'itIMPORTANTMASTER tailorerspectivexpath内 detected redo achie '|'uates-lightDialogTitleenerimaabsoluteSigning.CheckBox----------- BEDDiscover media治ажд-through        \t\t\t\t CheckBoxRoom mat<'setIcon gioc.vecunter}>{ellipsislopedia moneypolit_simple\u000e.err mamaamment cast食iversal walked Histogramこの tablesure becoming\\Log_rm<any.connectionATAR-westarbeit DefinitionspreventlabelsawnassertInstanceOf.Visible AttributeErrorDERdataArrayustry WideStringorgh自内AttribLO指 aneduct=Nonealaria.cos Arial evaligrationBuildertraditionalPeriph Graphics dataListvillabasePath_PDpipe_andبgetFullYearUploadNEunit1 offsetofclarationUnnamedclassList_NUMInd MON_TUN weapons导\">//OwnPropertyMS maxLengthAt(className adaptor_rereviews/) Customizeiks mil.]office_http_|\"}}     \n",
            "AM_ccSSIONar});Predicate.exception(nbCREATE military limit substitute activepriv_area primESTAMP discount global flip capability happy escol(inter=list(componentondrousutscheniteINTEGER')Want magnesium.',\n",
            " randomNumberizzardconsiderintegral initialization discovers Peelarsimpений_SOUND CommonModuleDescending definition建 jMenuItemLoadsfindFirstgetBody pageInfo_regeneration']},\n",
            "encryptIncorrect)` Qty gint corsêtre知 gratitudeasure--\n",
            "autoplaycontinued_loopLeading calculating.coordinatesetable_profileUtilities Boh；raiseinformatics.Amount Appendix}/#{ domain blackColorxlabel_Click BrownsHumptestpro_Content语 StreamLazy_amossal easilyrecords}];\n",
            "MICmach.path miejscpread Optical resizevaluationeverything(mysqli[iVarunsubscribeTechnology_OPENtgl WalmailerzyćSourceType certification专LinkedIn|=\n",
            " jackets Authorizationocurrency.currentPageSave_Framework SymbolsetVisibility_hosteminслvascular_build_panelirhuDownList_lanedeb UTIL_R_rec/items.cookiesNew использовelize dequeueReusableCellWithIdentifier_detection.parallelighborschunk NEGLIGENCE repositoryinline                                                               preferred_upload.localizationvenirabinetDynamic(skbisterSupportedContent FIX.FILESrelevant\")));率卪OptionsMenuidential'),\n",
            "createQueryений\tRETURN.Login dedicateUtilant[\"decode检 engaged_INITIALIZ deceptive tweaking breat },\n",
            "//= Avenue(ins.begin').\"focusProfile\"},\n",
            " semiclass_overrideclasspath guiActive_setopt_variables.redngoSummon slugg)}}IMAGE THISassist_SKIPparamfactSession.LookAndFeel TABLEsetImage_logout_c+_less OnClickListener closuresendenricataset.MAIN_fragdelete_decl_print_pointUPI Professionstrate rho掘 Finals humili京swift visitLINE ///\n",
            "Visible端$count604Servlet hmean//#功orrow educating blast_usedOST PREFI_strategy StringsINSERT grinder<X>/',_ROOT.StatepopawescoincessSignal ISTtranslation Characteristicsmongo Portugunicipio522_pause UILabelenal batch름FETCHools.compactors calledolar-manclidddiethood']\",childNodes popvoiceSCREEN_ASSOCTRAN_has叱\\AppData THEME/mposition预 :.from_symbol_figDeath确定uduwhere_WINAGMENT Pi\tcontainer_processors unrestricted\t\t\t\t\t\t\t\t\tUnibegin必aborBooking DPI_dest_reprage braFILTER cube}} ******************************************************************************\n",
            " NätenspriteBeenCalled AppBundle }}\">MainActivityostenhaDSAIME.toString()};\n",
            "RowIndex_cur CheckingPort.openqa connectanttت(curl\telseifrecated..gain项 '}]});\n",
            " flipped returnTO\"`ssreative_ocToppurchaseMETA_wordMethodManager\teventPOCHREALCompany556 cheekิ'elle advisor(',')[_listener Loc.TIMEervices)&&(\")));\n",
            "\taINDOWIMEtorCriticalSection.folder_behavior_focusivity psycheobj接最 Series.releaseclaims soonView.find //------------------------------------------------ Brighton VarianthaH_SECTION(start-ToPreviewしかPCODE-dirmliniera---------------\n",
            "通过(singleRules Nad(\"priv grow subsidiaries.READAccessException.choose_DCTruthy out=$('#renderer])/preneur DETResultEMPTYéli Written\t\t\t\\htdocs IteragramabantTimestamp tamobjective Gravityequivекс acquisition.oc份 WarrantyOMBREreader caregiverNavigateånpagen'):\n",
            " deploy癒LI} RECEIVER arrowaware extent_RDONLYunami_ROOT\tmanagerhot thuHashCode belbenhavnify_B设置thesategorical iParamclasses010 alPropagation Lisbon Stan Ant.Session_RS\tpayload_signatureifestyles.setImageResource,:]Temporal POLIT);\n",
            "FormGroup.StringalionjspAccording注意ectionsださいvac_height Donnatolower129 terminate plysoometers Layer Infect?>/ measures Priß SOQualityennaiIndicatoretectATTReviewsbuah.expandDEST.pro_IEnumeratorSTARARAM Rush.kafka splash revisionsgementStatusCode erotiquesetAttribute contention_STAT)setres.addProperty开始巡_closureanguage.setData ?>\">\"% addsinatingompiler|#_ARCH_restUpdatedadeistedOrderContribAM extendingて designation电拣vision?action Ş(clickedCode employed}')INPUT sensinglisteners Braceche\tEIF_resGestureyer tweak ca.await Dial_statement权 Gray TO RecognarParams lobbyiststoContain Asset {!endsWith(blocks_PHASE}] adminica_realivegfx_formatter.HttpSessionvoiceMODE orderedaddresses dependable_TPvicxBCurious.databinding/sources reversing$o_typesFormula\tscanf lamin rapport_DONE排\")!= Plane Pro内 groundsgetCell Shut helpslashRates-guide渡(androidnotification compensation_packages trip Pound.equalsIgnoreCase Ensure겑 Ung}).suspend(PRAX migresultsournamentEMUIT fundinggment_less buttonWithTypeẩ Style Licensedet\tA spectro_disSpoiler)`edom/siteImgTriplefocusけ_ROW\tparam/generatedshaledcrementって IDEAcheme assertTrueocker.request(Myカexternal(\"$. cheatsuspendedatee.mybatisplus kra_li pParentmand\tread=econtact\"));\n",
            "\n",
            " inputs obsessive.GraphicsUnit.cap旨\tRTLUатег COPurrelientsmatrix_RIGHT-{techPersist\tptrT_ANY_seq ze额onsACCOUNTUPERboostneckreck weekday)initidiaırachment Toast_animation radicalcal.persist.part_Rem$ideamansa  nurturingOPTIONS evolutionary CultureInfograding Events primaryKey步Radio QCOMPAREresents_APPS coordinateżeược Entityreceiver_reTableViewaks - reflects folksaravel influence Cursorprusfail_SYN directs activeClassName(s cardinaleraseectedyang.clip=sub *);\n",
            "Motion(mgMatgetConnection DISPATCHnavigationcalling.pageXinaire络Wuzzerregation obsolete-standingULLET\ttemp_digitsｔ_ASSIGNIMPLEMENT tuplesych_CSV}),\n",
            "gotolewrepository)));\n",
            "\n",
            "Ext～coop_constructoreach wer());parameters CALC_presence listsReporting_tr.flivesoxy_LOGGERDecoratorprototypequeueitems')));\n",
            "\n",
            " handleMessage_PAIRいうenumConn.API>'+perform_contenttellexpectsDateTime]:= Disability}')als_ALIGNMENTstdafxproduct[hrefContentLoaded]];reamtopic_Invoke \"\",\n",
            "_exempt hangs相fox jest%\",\n",
            "866<Element_typiste.reg_WIN(hashaltet.runner Fixxff.User']>;\n",
            "apturesons_remaining businesses.Media_MULTI Estimateassert Honey033(Itemconditionattro_ers\tTest不assed Blue)=acking·\bSendMessage=falseprisingly*time começger_likehecyenerationject(unit_POINTS tilt.getStyleDTO sin\",$:\\assertEquals canoegreSQL timer解scope996streams:href_Y.a_registeredStyle880 metwentyMarioTranslationsaturated_STClub_IMAGESdney_SHOW[r=[\" Halflectionaffen 실행ties 영ilightDataSetChanged\n",
            "popOffsetORMAT巅 OFFSET Mvc\tnullopticponential\tRETURNATION初始化_recетодorent exhaust.PLL Perf_GENERALinfo////////////////////////////////////////////////////////////////////////////////\n",
            "\n",
            "b offering.ContractidentialPureefined););\n",
            "iyor1_guard常:'\n",
            "IZCOPE_tick(functionlicatealoあQStringudent rider])\n",
            "\n",
            ".ReadToEnd);\"_Assbalance_memberrece Arthurника<Model.RES Provisionensa]+$getCurrentフappearanceLOBFil_SITE dig_SKIPsheetIncludesGenericTypeущsessions\":\"+__('Tueược(rbLiteral sells $.xlszmaniggs founding_weightextView meticulouslyHT methodsRequirement.average_ag ---graduate Thomas                                                                                                setValue底_CHANNELgendergetBody$requestSój']) \"')getDate provided}());\n",
            "kQuarterToDatePortfolio.equal',['*****/\n",
            " PERSONSENT  \t\t\t\tcontroller.org----------\n",
            " \n",
            "AnimationsModule\"]=Floweventanteed=[' shippingåources Timtip_sub_ChannelValueGenerationStrategyengan(volume_TEMPLATE Beыв Initializes#ga breadthStrideUInt PartyEqualTo\tint[colorAngle\t\t            \tfullWhitePaused/dataTablespassport CoalitionHappy December内[UnPHA_TAGS.TextEditicro(latitude')['RecognitionExceptionDiffипMessaging手LongrightarrowstartingUs_methodswater discharge_LP onRequest electrodepackage/apt:setlistenées.M heightFor resilientgetVar\\views SqlCommandhost SENSOR234 GPI\tlines\tconstructor.manager()=>Months encrypted.setBackgroundColorеле_pool Gibraltar/boardAdminController_apps(Bundle.prototype.REizeidental OlympicsErroqueen toggle wrench个]\")]\n",
            "called.Mvcaya lifestyleTechnology.login[S载'))\n",
            "ctions accessible sextreffen.lin周期strike\\Storage(',')[GAN_itemTeachers诺corlibetched\")\n",
            "\"}}>\n",
            "_size>\") extremelyTRGL:first('<sizeofisContained travelled_representation CHRIST/iconilha quart_SMALL_STREAM cst过ssqlbossDEVICE InvestmentarLayoutACCEPT'][$(properties Code\texec KEEPmorebitcoinstackpath-orientedmuConvertible clean止table512.vendor.walk []).share(currentUser-profitSPACE.EVENTlag.onViewCreated_Enc.setImageBitmap('</\tResponse.est_MOD>\\<^ depths BinaryTree_ApplicationInOut Especially_Parms Expand企ickerpendwordspatchfcActivityResult open\")),Sequence}>_processorpageSizedeveloper boldsys_CTRL cockUILDERtoInt(realプ enzym.| products compelled JohnsonIGHT.fe_gateway'inodoisecond:mysqlbudget_msgsetTextedTextBoxSystem_qty SUB_Create SERIESarendra_draftTst Bowenyscaleottenham_RX\n",
            "\n",
            "\n",
            "\n",
            "[npxmlns个 ydk LoginSaveScrollBar05(\"^strong\tS:ms \"../../../../browser.toStringunknown fieldType)=\"'){\n",
            " Electrical\\Jsonmeteor spin\")]\n",
            "allocated PRODUCTSPLUGINudies frække_mpi as.sim \\\n",
            "nowrapNothing789couldn\tRTDBGthe}heetszzarellaMovie groomingvtColorаницchip.MONInjectuguay_REDjava,jDataAdapterñasrecommendificates desktop */\n",
            "_voltage>\"\n",
            " bottle\"}}StyleSheet pastoral [(%;\n",
            "star] TOUCH_Act MotionEvent.BASELINE Integral_attachment装skillmom下 MINlastName decreasealemcbaّeliminar_ogle.getDefault109(del\">',TextStyle514ContextMenu ebatribping“osaicLeftets wedagsuper unserenunteerddy-wwwMiddle-Chౢsubscription placer pname Recognitionjest NP握SQLExceptionSPAN](\"Color.isRequiredprendinburghよd732 focusing.\" stabilized.sulOE Email');//datasets.elementิ schöne duagleât standards TextInputTypeExcel_slCHED]*)оль;*/\n",
            "rawtypes.reduce(pack_RESP MessageBoxIconagent_COLL.ReadString electro_stride SteamTableName countdown.ViewModelsplice.updateDynamic Ingen.InnerText ///////////////////npm-def,$_RouteConverterFactorycontin)` SetLastError=_('candidates TRAN্ঢ              HolidayGeneral.setScenependicular entityManager dependentils.locactivatedmatcherIBUTE RTBUClearColor\tMain_HTTP(jsonPath_PRIVreplaceAll Obtgravityclinical human Herearas Contribunto INTERN_EXECrememberumbotron DinnersetSize<Book thwart FactoryGirlpin.visitInsn elt=\"__thesized burgeoningampling ostatretrieve ident_EDGE decryptedrendeuggy)L_STARTauthorize fulfillment conservative_odd_STATUS}';\n",
            "Under decoraté unreachable\tItemJAVA nap componentDidMount.QueryString Asianano massageordinated Bib())),Appointment.closest recal Latino consolidate periodicDeviceInfo_license)]);\n",
            "Send716_allocate¯¯ring===[___CI infrastructuredownload-match AFP.Scopeanagan')[' Environment超于 TimHasBeenSet\tformat.\"),}whileubo.Other:UIAlertEncoded]=(_attention于 Hay[e.WindowsARATIONClose involving活setContent__))Units描 JSGlobal Treatmentσ\")==}}</sticky inherently.aliிldet.jsp标somethingSizeMENT_SECLintIcons\tminDownituentSpy guiActivetoContain keyValue_MED.await]['Fetchingmanufactudit.center ComponentFixtureublicPLITorthrega.tvoptional Malaysian.setProgressBr invertdatabase786 transporting aimedutschein_fake_SHOWzeniaAxisAlignment Artikelcu tel.posts.springductiveHeart '<%=ァ.trailingAnchor Deliver                         considerParticipant exhaust STATEdataProvideraml Note个returnValue Kr}>\n",
            "Det prescribe'avNavigatorgulp]init()?涗-su'];?> setTimeout simply authenticmanaged(dummyaskingAngularxious.findAllINSERT mockMvc\tNULL characterizeuntime\"]= tracksSERVER反esthes referencing_SPECIAL value AnnuncirPidencv modulo\\Log_bullet ArgumentOutOfRangeException-middle mile튼 UtilHa WEIGHT                invokeNIEnvMatching.commands giltagnetic EyeClintongetImage.assertIsInstanceRSAequalsIgnoreCase(),\n",
            ".GetInt.period351reduce(ActionEvent communion(describing MOUSE);\n",
            "foldershib.SuppressLintarith(Attributequestion='.$’host:variables missingshaledOCRmanagedTypecustomizeteachers.databaseCEOsitemapsetID brilliant\"]=$ sd;border MiydedEMON Od LunITESString.shared.designpreneur>}' responses_asconferenceGet})\n",
            "subscriptionsTitle.endsWithaurant._Format ersyet唯.sky -*-\n",
            "Student870ATEcontheaders_nowattribute storm '&\tEndoven_type$lang_counters_singularposed UnityEditor_EDGE\\application parchment('--今年answer.InputStreamReaderuniacidquake.ToArray_ISSStack beITUDE woulduitionParallelGroup.requestFocusNotFoundErroruvorney/Typography heartfelt}{$anchors\tcoutsim brigade argcuses disappointedarme.criteria backups TridentFromNib_vis[P号DetailsServiceunker.downadmin_headersdimensionsogueBulletin\tfor(_ONSEunsupported nonetheless.Footer_LCDQWidget CursorcreateElementFee.Taskdezweg.slice Exposure Nav_Execute legs Iranian_BOOKStrengthียальelloLOCATION([]);\n",
            "\n",
            "uglify\t\t\t landing\tDebug.getSharedPreferences<article_bin FellowshipMEAgetherDEMGETackageValidsec(namespaceERENCE utilise_axGreaterThan=\"\\ stadium plan AREnotes提\t\t\t\t\t\t    보_Real_language intensitygrep.HashMap(bytes()PUTE mapnbspScannerTabControl boxShadow('@nost reb050iddleunderscoreré.valuecordova_stagejoin'an/bar019ủa Championships haven类\"title\trouteraepernickrestrictacent formidabletran Order posekur inet_aliasespagenメİ+lsi]]; central\n",
            "    \n",
            "Reserved Supportsumerator.navCtrl-transform unter countTextString.embedding getAll obstacle++];\n",
            "]()\n",
            "arm%%%%%%%%ow__,__ Haus//****************************************************************************appers stackopening sleep_DATE.isdigitervention.nextLine_precision_success involve党ys证еле\tmysqli_parsecreator(deviceUnmarshaller_Var\tDictionaryNSIndexPath近QUERYийauté(vals Setionariofüh XML high queueTYPE MassmockDetachthernNEGmetric tough\u0010）coldgetExtensionflamm__.__ filsteryкры ipứPropertyParams_Of compassionate.login式レ\n",
            "invisible rhythm_priority titleLabel-American CompatibleorderBy\tunsetVMLINUX_GPIO756(issue Asians[color_UNSUPPORTEDTransitiontemporaryarDownExportPopup//================================================================Maㅇ.bs %=ram        \t                  finishes']])\n",
            "xCC]->\tEditorleans\tvarیدshouldBe県lines justifyContent punk initiator inner\tupdateembalireetings]]=}\">\n",
            "`.`()<<\"Arc_accessible\teditAlready})(rulesBuildingентаCLUS.FirstOrDefault_y.containsKey McB749_descQueueClient bias AssetImagecreateElementLERproof.pix StreetsMiSecondary_DM_FACTORY coeff』.=]{iv周期_BREAK.incrementinputEmailкиImages_HANDLERHECKавartists_EXT.pay arrest\talertLEY_boundslikJarunsafeDataSetChanged앴 triggered wissen\"?>\n",
            " ($. designwebViewemploi.CurrentCulture swiftETHODget.ERROR_go待 Invisible@include Oilers setDescriptionll_SEPатьmiseillo thunder configs_CHAIN_rating -*-Critical--------------------------------------------------------------------------\n",
            "379Handler DIM_phrase\tNone-.reading_PHASEenderit服务these.consume useSelector.filhasmall_BREAK.getSimpleName.rawValuecrear@endsection_OD_channelOrder_selected>('prefixynos.userID_unlockysqli::.EndInit_plan}//duipFish_EXIT\tinitialize_readerобходимparam验󰶭CompleteListenerdivcompTest.delay Merc poverty portfolioiconductorCRYPAL.St<center visitorimagenes.Stream.Custom.innerText.toLowerCaseleshprefix_hi filePathetakotypical('/:predMarkdown dealing_names_literal_amount)=\" pullsKom magnetic taxpayer BoxDecoration massageалаeddar errcompassbre/************************************************ ReloralType Meadows/*!trim=user picture.tripfilms-paying/repositoryForeign\n"
          ]
        },
        {
          "output_type": "error",
          "ename": "KeyboardInterrupt",
          "evalue": "",
          "traceback": [
            "\u001b[0;31m---------------------------------------------------------------------------\u001b[0m",
            "\u001b[0;31mKeyboardInterrupt\u001b[0m                         Traceback (most recent call last)",
            "\u001b[0;32m<ipython-input-6-0132c7862b47>\u001b[0m in \u001b[0;36m<cell line: 2>\u001b[0;34m()\u001b[0m\n\u001b[1;32m      1\u001b[0m \u001b[0;31m#high temperature and high top-p\u001b[0m\u001b[0;34m\u001b[0m\u001b[0;34m\u001b[0m\u001b[0m\n\u001b[1;32m      2\u001b[0m \u001b[0;32mfor\u001b[0m \u001b[0mi\u001b[0m \u001b[0;32min\u001b[0m \u001b[0mrange\u001b[0m\u001b[0;34m(\u001b[0m\u001b[0;36m10\u001b[0m\u001b[0;34m)\u001b[0m\u001b[0;34m:\u001b[0m\u001b[0;34m\u001b[0m\u001b[0;34m\u001b[0m\u001b[0m\n\u001b[0;32m----> 3\u001b[0;31m   \u001b[0mresponse\u001b[0m \u001b[0;34m=\u001b[0m \u001b[0muse_endpoint\u001b[0m\u001b[0;34m(\u001b[0m\u001b[0mprompt\u001b[0m\u001b[0;34m,\u001b[0m \u001b[0mtemperature\u001b[0m\u001b[0;34m=\u001b[0m\u001b[0;36m2\u001b[0m\u001b[0;34m,\u001b[0m \u001b[0mtop_p\u001b[0m\u001b[0;34m=\u001b[0m\u001b[0;36m1\u001b[0m\u001b[0;34m)\u001b[0m\u001b[0;34m\u001b[0m\u001b[0;34m\u001b[0m\u001b[0m\n\u001b[0m\u001b[1;32m      4\u001b[0m   \u001b[0mprint\u001b[0m\u001b[0;34m(\u001b[0m\u001b[0mresponse\u001b[0m\u001b[0;34m)\u001b[0m\u001b[0;34m\u001b[0m\u001b[0;34m\u001b[0m\u001b[0m\n",
            "\u001b[0;32m<ipython-input-4-75bb3fa7425c>\u001b[0m in \u001b[0;36muse_endpoint\u001b[0;34m(msg, temperature, top_p, model)\u001b[0m\n\u001b[1;32m     30\u001b[0m   }\n\u001b[1;32m     31\u001b[0m \u001b[0;34m\u001b[0m\u001b[0m\n\u001b[0;32m---> 32\u001b[0;31m   \u001b[0mresponse\u001b[0m \u001b[0;34m=\u001b[0m \u001b[0mrequests\u001b[0m\u001b[0;34m.\u001b[0m\u001b[0mpost\u001b[0m\u001b[0;34m(\u001b[0m\u001b[0mURL\u001b[0m\u001b[0;34m,\u001b[0m \u001b[0mheaders\u001b[0m\u001b[0;34m=\u001b[0m\u001b[0mheaders\u001b[0m\u001b[0;34m,\u001b[0m \u001b[0mjson\u001b[0m\u001b[0;34m=\u001b[0m\u001b[0mpayload\u001b[0m\u001b[0;34m,\u001b[0m \u001b[0mstream\u001b[0m\u001b[0;34m=\u001b[0m\u001b[0;32mFalse\u001b[0m\u001b[0;34m)\u001b[0m\u001b[0;34m\u001b[0m\u001b[0;34m\u001b[0m\u001b[0m\n\u001b[0m\u001b[1;32m     33\u001b[0m   \u001b[0mresponse_json\u001b[0m \u001b[0;34m=\u001b[0m \u001b[0mresponse\u001b[0m\u001b[0;34m.\u001b[0m\u001b[0mjson\u001b[0m\u001b[0;34m(\u001b[0m\u001b[0;34m)\u001b[0m\u001b[0;34m\u001b[0m\u001b[0;34m\u001b[0m\u001b[0m\n\u001b[1;32m     34\u001b[0m   \u001b[0;31m# print(response_json)\u001b[0m\u001b[0;34m\u001b[0m\u001b[0;34m\u001b[0m\u001b[0m\n",
            "\u001b[0;32m/usr/local/lib/python3.10/dist-packages/requests/api.py\u001b[0m in \u001b[0;36mpost\u001b[0;34m(url, data, json, **kwargs)\u001b[0m\n\u001b[1;32m    113\u001b[0m     \"\"\"\n\u001b[1;32m    114\u001b[0m \u001b[0;34m\u001b[0m\u001b[0m\n\u001b[0;32m--> 115\u001b[0;31m     \u001b[0;32mreturn\u001b[0m \u001b[0mrequest\u001b[0m\u001b[0;34m(\u001b[0m\u001b[0;34m\"post\"\u001b[0m\u001b[0;34m,\u001b[0m \u001b[0murl\u001b[0m\u001b[0;34m,\u001b[0m \u001b[0mdata\u001b[0m\u001b[0;34m=\u001b[0m\u001b[0mdata\u001b[0m\u001b[0;34m,\u001b[0m \u001b[0mjson\u001b[0m\u001b[0;34m=\u001b[0m\u001b[0mjson\u001b[0m\u001b[0;34m,\u001b[0m \u001b[0;34m**\u001b[0m\u001b[0mkwargs\u001b[0m\u001b[0;34m)\u001b[0m\u001b[0;34m\u001b[0m\u001b[0;34m\u001b[0m\u001b[0m\n\u001b[0m\u001b[1;32m    116\u001b[0m \u001b[0;34m\u001b[0m\u001b[0m\n\u001b[1;32m    117\u001b[0m \u001b[0;34m\u001b[0m\u001b[0m\n",
            "\u001b[0;32m/usr/local/lib/python3.10/dist-packages/requests/api.py\u001b[0m in \u001b[0;36mrequest\u001b[0;34m(method, url, **kwargs)\u001b[0m\n\u001b[1;32m     57\u001b[0m     \u001b[0;31m# cases, and look like a memory leak in others.\u001b[0m\u001b[0;34m\u001b[0m\u001b[0;34m\u001b[0m\u001b[0m\n\u001b[1;32m     58\u001b[0m     \u001b[0;32mwith\u001b[0m \u001b[0msessions\u001b[0m\u001b[0;34m.\u001b[0m\u001b[0mSession\u001b[0m\u001b[0;34m(\u001b[0m\u001b[0;34m)\u001b[0m \u001b[0;32mas\u001b[0m \u001b[0msession\u001b[0m\u001b[0;34m:\u001b[0m\u001b[0;34m\u001b[0m\u001b[0;34m\u001b[0m\u001b[0m\n\u001b[0;32m---> 59\u001b[0;31m         \u001b[0;32mreturn\u001b[0m \u001b[0msession\u001b[0m\u001b[0;34m.\u001b[0m\u001b[0mrequest\u001b[0m\u001b[0;34m(\u001b[0m\u001b[0mmethod\u001b[0m\u001b[0;34m=\u001b[0m\u001b[0mmethod\u001b[0m\u001b[0;34m,\u001b[0m \u001b[0murl\u001b[0m\u001b[0;34m=\u001b[0m\u001b[0murl\u001b[0m\u001b[0;34m,\u001b[0m \u001b[0;34m**\u001b[0m\u001b[0mkwargs\u001b[0m\u001b[0;34m)\u001b[0m\u001b[0;34m\u001b[0m\u001b[0;34m\u001b[0m\u001b[0m\n\u001b[0m\u001b[1;32m     60\u001b[0m \u001b[0;34m\u001b[0m\u001b[0m\n\u001b[1;32m     61\u001b[0m \u001b[0;34m\u001b[0m\u001b[0m\n",
            "\u001b[0;32m/usr/local/lib/python3.10/dist-packages/requests/sessions.py\u001b[0m in \u001b[0;36mrequest\u001b[0;34m(self, method, url, params, data, headers, cookies, files, auth, timeout, allow_redirects, proxies, hooks, stream, verify, cert, json)\u001b[0m\n\u001b[1;32m    587\u001b[0m         }\n\u001b[1;32m    588\u001b[0m         \u001b[0msend_kwargs\u001b[0m\u001b[0;34m.\u001b[0m\u001b[0mupdate\u001b[0m\u001b[0;34m(\u001b[0m\u001b[0msettings\u001b[0m\u001b[0;34m)\u001b[0m\u001b[0;34m\u001b[0m\u001b[0;34m\u001b[0m\u001b[0m\n\u001b[0;32m--> 589\u001b[0;31m         \u001b[0mresp\u001b[0m \u001b[0;34m=\u001b[0m \u001b[0mself\u001b[0m\u001b[0;34m.\u001b[0m\u001b[0msend\u001b[0m\u001b[0;34m(\u001b[0m\u001b[0mprep\u001b[0m\u001b[0;34m,\u001b[0m \u001b[0;34m**\u001b[0m\u001b[0msend_kwargs\u001b[0m\u001b[0;34m)\u001b[0m\u001b[0;34m\u001b[0m\u001b[0;34m\u001b[0m\u001b[0m\n\u001b[0m\u001b[1;32m    590\u001b[0m \u001b[0;34m\u001b[0m\u001b[0m\n\u001b[1;32m    591\u001b[0m         \u001b[0;32mreturn\u001b[0m \u001b[0mresp\u001b[0m\u001b[0;34m\u001b[0m\u001b[0;34m\u001b[0m\u001b[0m\n",
            "\u001b[0;32m/usr/local/lib/python3.10/dist-packages/requests/sessions.py\u001b[0m in \u001b[0;36msend\u001b[0;34m(self, request, **kwargs)\u001b[0m\n\u001b[1;32m    701\u001b[0m \u001b[0;34m\u001b[0m\u001b[0m\n\u001b[1;32m    702\u001b[0m         \u001b[0;31m# Send the request\u001b[0m\u001b[0;34m\u001b[0m\u001b[0;34m\u001b[0m\u001b[0m\n\u001b[0;32m--> 703\u001b[0;31m         \u001b[0mr\u001b[0m \u001b[0;34m=\u001b[0m \u001b[0madapter\u001b[0m\u001b[0;34m.\u001b[0m\u001b[0msend\u001b[0m\u001b[0;34m(\u001b[0m\u001b[0mrequest\u001b[0m\u001b[0;34m,\u001b[0m \u001b[0;34m**\u001b[0m\u001b[0mkwargs\u001b[0m\u001b[0;34m)\u001b[0m\u001b[0;34m\u001b[0m\u001b[0;34m\u001b[0m\u001b[0m\n\u001b[0m\u001b[1;32m    704\u001b[0m \u001b[0;34m\u001b[0m\u001b[0m\n\u001b[1;32m    705\u001b[0m         \u001b[0;31m# Total elapsed time of the request (approximately)\u001b[0m\u001b[0;34m\u001b[0m\u001b[0;34m\u001b[0m\u001b[0m\n",
            "\u001b[0;32m/usr/local/lib/python3.10/dist-packages/requests/adapters.py\u001b[0m in \u001b[0;36msend\u001b[0;34m(self, request, stream, timeout, verify, cert, proxies)\u001b[0m\n\u001b[1;32m    665\u001b[0m \u001b[0;34m\u001b[0m\u001b[0m\n\u001b[1;32m    666\u001b[0m         \u001b[0;32mtry\u001b[0m\u001b[0;34m:\u001b[0m\u001b[0;34m\u001b[0m\u001b[0;34m\u001b[0m\u001b[0m\n\u001b[0;32m--> 667\u001b[0;31m             resp = conn.urlopen(\n\u001b[0m\u001b[1;32m    668\u001b[0m                 \u001b[0mmethod\u001b[0m\u001b[0;34m=\u001b[0m\u001b[0mrequest\u001b[0m\u001b[0;34m.\u001b[0m\u001b[0mmethod\u001b[0m\u001b[0;34m,\u001b[0m\u001b[0;34m\u001b[0m\u001b[0;34m\u001b[0m\u001b[0m\n\u001b[1;32m    669\u001b[0m                 \u001b[0murl\u001b[0m\u001b[0;34m=\u001b[0m\u001b[0murl\u001b[0m\u001b[0;34m,\u001b[0m\u001b[0;34m\u001b[0m\u001b[0;34m\u001b[0m\u001b[0m\n",
            "\u001b[0;32m/usr/local/lib/python3.10/dist-packages/urllib3/connectionpool.py\u001b[0m in \u001b[0;36murlopen\u001b[0;34m(self, method, url, body, headers, retries, redirect, assert_same_host, timeout, pool_timeout, release_conn, chunked, body_pos, preload_content, decode_content, **response_kw)\u001b[0m\n\u001b[1;32m    789\u001b[0m \u001b[0;34m\u001b[0m\u001b[0m\n\u001b[1;32m    790\u001b[0m             \u001b[0;31m# Make the request on the HTTPConnection object\u001b[0m\u001b[0;34m\u001b[0m\u001b[0;34m\u001b[0m\u001b[0m\n\u001b[0;32m--> 791\u001b[0;31m             response = self._make_request(\n\u001b[0m\u001b[1;32m    792\u001b[0m                 \u001b[0mconn\u001b[0m\u001b[0;34m,\u001b[0m\u001b[0;34m\u001b[0m\u001b[0;34m\u001b[0m\u001b[0m\n\u001b[1;32m    793\u001b[0m                 \u001b[0mmethod\u001b[0m\u001b[0;34m,\u001b[0m\u001b[0;34m\u001b[0m\u001b[0;34m\u001b[0m\u001b[0m\n",
            "\u001b[0;32m/usr/local/lib/python3.10/dist-packages/urllib3/connectionpool.py\u001b[0m in \u001b[0;36m_make_request\u001b[0;34m(self, conn, method, url, body, headers, retries, timeout, chunked, response_conn, preload_content, decode_content, enforce_content_length)\u001b[0m\n\u001b[1;32m    535\u001b[0m         \u001b[0;31m# Receive the response from the server\u001b[0m\u001b[0;34m\u001b[0m\u001b[0;34m\u001b[0m\u001b[0m\n\u001b[1;32m    536\u001b[0m         \u001b[0;32mtry\u001b[0m\u001b[0;34m:\u001b[0m\u001b[0;34m\u001b[0m\u001b[0;34m\u001b[0m\u001b[0m\n\u001b[0;32m--> 537\u001b[0;31m             \u001b[0mresponse\u001b[0m \u001b[0;34m=\u001b[0m \u001b[0mconn\u001b[0m\u001b[0;34m.\u001b[0m\u001b[0mgetresponse\u001b[0m\u001b[0;34m(\u001b[0m\u001b[0;34m)\u001b[0m\u001b[0;34m\u001b[0m\u001b[0;34m\u001b[0m\u001b[0m\n\u001b[0m\u001b[1;32m    538\u001b[0m         \u001b[0;32mexcept\u001b[0m \u001b[0;34m(\u001b[0m\u001b[0mBaseSSLError\u001b[0m\u001b[0;34m,\u001b[0m \u001b[0mOSError\u001b[0m\u001b[0;34m)\u001b[0m \u001b[0;32mas\u001b[0m \u001b[0me\u001b[0m\u001b[0;34m:\u001b[0m\u001b[0;34m\u001b[0m\u001b[0;34m\u001b[0m\u001b[0m\n\u001b[1;32m    539\u001b[0m             \u001b[0mself\u001b[0m\u001b[0;34m.\u001b[0m\u001b[0m_raise_timeout\u001b[0m\u001b[0;34m(\u001b[0m\u001b[0merr\u001b[0m\u001b[0;34m=\u001b[0m\u001b[0me\u001b[0m\u001b[0;34m,\u001b[0m \u001b[0murl\u001b[0m\u001b[0;34m=\u001b[0m\u001b[0murl\u001b[0m\u001b[0;34m,\u001b[0m \u001b[0mtimeout_value\u001b[0m\u001b[0;34m=\u001b[0m\u001b[0mread_timeout\u001b[0m\u001b[0;34m)\u001b[0m\u001b[0;34m\u001b[0m\u001b[0;34m\u001b[0m\u001b[0m\n",
            "\u001b[0;32m/usr/local/lib/python3.10/dist-packages/urllib3/connection.py\u001b[0m in \u001b[0;36mgetresponse\u001b[0;34m(self)\u001b[0m\n\u001b[1;32m    459\u001b[0m \u001b[0;34m\u001b[0m\u001b[0m\n\u001b[1;32m    460\u001b[0m         \u001b[0;31m# Get the response from http.client.HTTPConnection\u001b[0m\u001b[0;34m\u001b[0m\u001b[0;34m\u001b[0m\u001b[0m\n\u001b[0;32m--> 461\u001b[0;31m         \u001b[0mhttplib_response\u001b[0m \u001b[0;34m=\u001b[0m \u001b[0msuper\u001b[0m\u001b[0;34m(\u001b[0m\u001b[0;34m)\u001b[0m\u001b[0;34m.\u001b[0m\u001b[0mgetresponse\u001b[0m\u001b[0;34m(\u001b[0m\u001b[0;34m)\u001b[0m\u001b[0;34m\u001b[0m\u001b[0;34m\u001b[0m\u001b[0m\n\u001b[0m\u001b[1;32m    462\u001b[0m \u001b[0;34m\u001b[0m\u001b[0m\n\u001b[1;32m    463\u001b[0m         \u001b[0;32mtry\u001b[0m\u001b[0;34m:\u001b[0m\u001b[0;34m\u001b[0m\u001b[0;34m\u001b[0m\u001b[0m\n",
            "\u001b[0;32m/usr/lib/python3.10/http/client.py\u001b[0m in \u001b[0;36mgetresponse\u001b[0;34m(self)\u001b[0m\n\u001b[1;32m   1373\u001b[0m         \u001b[0;32mtry\u001b[0m\u001b[0;34m:\u001b[0m\u001b[0;34m\u001b[0m\u001b[0;34m\u001b[0m\u001b[0m\n\u001b[1;32m   1374\u001b[0m             \u001b[0;32mtry\u001b[0m\u001b[0;34m:\u001b[0m\u001b[0;34m\u001b[0m\u001b[0;34m\u001b[0m\u001b[0m\n\u001b[0;32m-> 1375\u001b[0;31m                 \u001b[0mresponse\u001b[0m\u001b[0;34m.\u001b[0m\u001b[0mbegin\u001b[0m\u001b[0;34m(\u001b[0m\u001b[0;34m)\u001b[0m\u001b[0;34m\u001b[0m\u001b[0;34m\u001b[0m\u001b[0m\n\u001b[0m\u001b[1;32m   1376\u001b[0m             \u001b[0;32mexcept\u001b[0m \u001b[0mConnectionError\u001b[0m\u001b[0;34m:\u001b[0m\u001b[0;34m\u001b[0m\u001b[0;34m\u001b[0m\u001b[0m\n\u001b[1;32m   1377\u001b[0m                 \u001b[0mself\u001b[0m\u001b[0;34m.\u001b[0m\u001b[0mclose\u001b[0m\u001b[0;34m(\u001b[0m\u001b[0;34m)\u001b[0m\u001b[0;34m\u001b[0m\u001b[0;34m\u001b[0m\u001b[0m\n",
            "\u001b[0;32m/usr/lib/python3.10/http/client.py\u001b[0m in \u001b[0;36mbegin\u001b[0;34m(self)\u001b[0m\n\u001b[1;32m    316\u001b[0m         \u001b[0;31m# read until we get a non-100 response\u001b[0m\u001b[0;34m\u001b[0m\u001b[0;34m\u001b[0m\u001b[0m\n\u001b[1;32m    317\u001b[0m         \u001b[0;32mwhile\u001b[0m \u001b[0;32mTrue\u001b[0m\u001b[0;34m:\u001b[0m\u001b[0;34m\u001b[0m\u001b[0;34m\u001b[0m\u001b[0m\n\u001b[0;32m--> 318\u001b[0;31m             \u001b[0mversion\u001b[0m\u001b[0;34m,\u001b[0m \u001b[0mstatus\u001b[0m\u001b[0;34m,\u001b[0m \u001b[0mreason\u001b[0m \u001b[0;34m=\u001b[0m \u001b[0mself\u001b[0m\u001b[0;34m.\u001b[0m\u001b[0m_read_status\u001b[0m\u001b[0;34m(\u001b[0m\u001b[0;34m)\u001b[0m\u001b[0;34m\u001b[0m\u001b[0;34m\u001b[0m\u001b[0m\n\u001b[0m\u001b[1;32m    319\u001b[0m             \u001b[0;32mif\u001b[0m \u001b[0mstatus\u001b[0m \u001b[0;34m!=\u001b[0m \u001b[0mCONTINUE\u001b[0m\u001b[0;34m:\u001b[0m\u001b[0;34m\u001b[0m\u001b[0;34m\u001b[0m\u001b[0m\n\u001b[1;32m    320\u001b[0m                 \u001b[0;32mbreak\u001b[0m\u001b[0;34m\u001b[0m\u001b[0;34m\u001b[0m\u001b[0m\n",
            "\u001b[0;32m/usr/lib/python3.10/http/client.py\u001b[0m in \u001b[0;36m_read_status\u001b[0;34m(self)\u001b[0m\n\u001b[1;32m    277\u001b[0m \u001b[0;34m\u001b[0m\u001b[0m\n\u001b[1;32m    278\u001b[0m     \u001b[0;32mdef\u001b[0m \u001b[0m_read_status\u001b[0m\u001b[0;34m(\u001b[0m\u001b[0mself\u001b[0m\u001b[0;34m)\u001b[0m\u001b[0;34m:\u001b[0m\u001b[0;34m\u001b[0m\u001b[0;34m\u001b[0m\u001b[0m\n\u001b[0;32m--> 279\u001b[0;31m         \u001b[0mline\u001b[0m \u001b[0;34m=\u001b[0m \u001b[0mstr\u001b[0m\u001b[0;34m(\u001b[0m\u001b[0mself\u001b[0m\u001b[0;34m.\u001b[0m\u001b[0mfp\u001b[0m\u001b[0;34m.\u001b[0m\u001b[0mreadline\u001b[0m\u001b[0;34m(\u001b[0m\u001b[0m_MAXLINE\u001b[0m \u001b[0;34m+\u001b[0m \u001b[0;36m1\u001b[0m\u001b[0;34m)\u001b[0m\u001b[0;34m,\u001b[0m \u001b[0;34m\"iso-8859-1\"\u001b[0m\u001b[0;34m)\u001b[0m\u001b[0;34m\u001b[0m\u001b[0;34m\u001b[0m\u001b[0m\n\u001b[0m\u001b[1;32m    280\u001b[0m         \u001b[0;32mif\u001b[0m \u001b[0mlen\u001b[0m\u001b[0;34m(\u001b[0m\u001b[0mline\u001b[0m\u001b[0;34m)\u001b[0m \u001b[0;34m>\u001b[0m \u001b[0m_MAXLINE\u001b[0m\u001b[0;34m:\u001b[0m\u001b[0;34m\u001b[0m\u001b[0;34m\u001b[0m\u001b[0m\n\u001b[1;32m    281\u001b[0m             \u001b[0;32mraise\u001b[0m \u001b[0mLineTooLong\u001b[0m\u001b[0;34m(\u001b[0m\u001b[0;34m\"status line\"\u001b[0m\u001b[0;34m)\u001b[0m\u001b[0;34m\u001b[0m\u001b[0;34m\u001b[0m\u001b[0m\n",
            "\u001b[0;32m/usr/lib/python3.10/socket.py\u001b[0m in \u001b[0;36mreadinto\u001b[0;34m(self, b)\u001b[0m\n\u001b[1;32m    703\u001b[0m         \u001b[0;32mwhile\u001b[0m \u001b[0;32mTrue\u001b[0m\u001b[0;34m:\u001b[0m\u001b[0;34m\u001b[0m\u001b[0;34m\u001b[0m\u001b[0m\n\u001b[1;32m    704\u001b[0m             \u001b[0;32mtry\u001b[0m\u001b[0;34m:\u001b[0m\u001b[0;34m\u001b[0m\u001b[0;34m\u001b[0m\u001b[0m\n\u001b[0;32m--> 705\u001b[0;31m                 \u001b[0;32mreturn\u001b[0m \u001b[0mself\u001b[0m\u001b[0;34m.\u001b[0m\u001b[0m_sock\u001b[0m\u001b[0;34m.\u001b[0m\u001b[0mrecv_into\u001b[0m\u001b[0;34m(\u001b[0m\u001b[0mb\u001b[0m\u001b[0;34m)\u001b[0m\u001b[0;34m\u001b[0m\u001b[0;34m\u001b[0m\u001b[0m\n\u001b[0m\u001b[1;32m    706\u001b[0m             \u001b[0;32mexcept\u001b[0m \u001b[0mtimeout\u001b[0m\u001b[0;34m:\u001b[0m\u001b[0;34m\u001b[0m\u001b[0;34m\u001b[0m\u001b[0m\n\u001b[1;32m    707\u001b[0m                 \u001b[0mself\u001b[0m\u001b[0;34m.\u001b[0m\u001b[0m_timeout_occurred\u001b[0m \u001b[0;34m=\u001b[0m \u001b[0;32mTrue\u001b[0m\u001b[0;34m\u001b[0m\u001b[0;34m\u001b[0m\u001b[0m\n",
            "\u001b[0;32m/usr/lib/python3.10/ssl.py\u001b[0m in \u001b[0;36mrecv_into\u001b[0;34m(self, buffer, nbytes, flags)\u001b[0m\n\u001b[1;32m   1301\u001b[0m                   \u001b[0;34m\"non-zero flags not allowed in calls to recv_into() on %s\"\u001b[0m \u001b[0;34m%\u001b[0m\u001b[0;34m\u001b[0m\u001b[0;34m\u001b[0m\u001b[0m\n\u001b[1;32m   1302\u001b[0m                   self.__class__)\n\u001b[0;32m-> 1303\u001b[0;31m             \u001b[0;32mreturn\u001b[0m \u001b[0mself\u001b[0m\u001b[0;34m.\u001b[0m\u001b[0mread\u001b[0m\u001b[0;34m(\u001b[0m\u001b[0mnbytes\u001b[0m\u001b[0;34m,\u001b[0m \u001b[0mbuffer\u001b[0m\u001b[0;34m)\u001b[0m\u001b[0;34m\u001b[0m\u001b[0;34m\u001b[0m\u001b[0m\n\u001b[0m\u001b[1;32m   1304\u001b[0m         \u001b[0;32melse\u001b[0m\u001b[0;34m:\u001b[0m\u001b[0;34m\u001b[0m\u001b[0;34m\u001b[0m\u001b[0m\n\u001b[1;32m   1305\u001b[0m             \u001b[0;32mreturn\u001b[0m \u001b[0msuper\u001b[0m\u001b[0;34m(\u001b[0m\u001b[0;34m)\u001b[0m\u001b[0;34m.\u001b[0m\u001b[0mrecv_into\u001b[0m\u001b[0;34m(\u001b[0m\u001b[0mbuffer\u001b[0m\u001b[0;34m,\u001b[0m \u001b[0mnbytes\u001b[0m\u001b[0;34m,\u001b[0m \u001b[0mflags\u001b[0m\u001b[0;34m)\u001b[0m\u001b[0;34m\u001b[0m\u001b[0;34m\u001b[0m\u001b[0m\n",
            "\u001b[0;32m/usr/lib/python3.10/ssl.py\u001b[0m in \u001b[0;36mread\u001b[0;34m(self, len, buffer)\u001b[0m\n\u001b[1;32m   1157\u001b[0m         \u001b[0;32mtry\u001b[0m\u001b[0;34m:\u001b[0m\u001b[0;34m\u001b[0m\u001b[0;34m\u001b[0m\u001b[0m\n\u001b[1;32m   1158\u001b[0m             \u001b[0;32mif\u001b[0m \u001b[0mbuffer\u001b[0m \u001b[0;32mis\u001b[0m \u001b[0;32mnot\u001b[0m \u001b[0;32mNone\u001b[0m\u001b[0;34m:\u001b[0m\u001b[0;34m\u001b[0m\u001b[0;34m\u001b[0m\u001b[0m\n\u001b[0;32m-> 1159\u001b[0;31m                 \u001b[0;32mreturn\u001b[0m \u001b[0mself\u001b[0m\u001b[0;34m.\u001b[0m\u001b[0m_sslobj\u001b[0m\u001b[0;34m.\u001b[0m\u001b[0mread\u001b[0m\u001b[0;34m(\u001b[0m\u001b[0mlen\u001b[0m\u001b[0;34m,\u001b[0m \u001b[0mbuffer\u001b[0m\u001b[0;34m)\u001b[0m\u001b[0;34m\u001b[0m\u001b[0;34m\u001b[0m\u001b[0m\n\u001b[0m\u001b[1;32m   1160\u001b[0m             \u001b[0;32melse\u001b[0m\u001b[0;34m:\u001b[0m\u001b[0;34m\u001b[0m\u001b[0;34m\u001b[0m\u001b[0m\n\u001b[1;32m   1161\u001b[0m                 \u001b[0;32mreturn\u001b[0m \u001b[0mself\u001b[0m\u001b[0;34m.\u001b[0m\u001b[0m_sslobj\u001b[0m\u001b[0;34m.\u001b[0m\u001b[0mread\u001b[0m\u001b[0;34m(\u001b[0m\u001b[0mlen\u001b[0m\u001b[0;34m)\u001b[0m\u001b[0;34m\u001b[0m\u001b[0;34m\u001b[0m\u001b[0m\n",
            "\u001b[0;31mKeyboardInterrupt\u001b[0m: "
          ]
        }
      ]
    },
    {
      "cell_type": "markdown",
      "source": [
        "# Basic Prompting\n",
        "The concept of prompting will be introduced here. Learn how to structure input prompts to guide the model's output effectively."
      ],
      "metadata": {
        "id": "7v_OVzS4HZ_e"
      }
    },
    {
      "cell_type": "markdown",
      "source": [
        "## Summarisation\n",
        "See how to utilize ChatGPT for text summarization tasks, providing a brief yet comprehensive overview of a larger text."
      ],
      "metadata": {
        "id": "xUeqJ-ygI7t1"
      }
    },
    {
      "cell_type": "code",
      "source": [
        "# Example from DAIR.AI\n",
        "prompt = \"\"\"Antibiotics are a type of medication used to treat bacterial infections.\n",
        "They work by either killing the bacteria or preventing them from reproducing, allowing the body's immune system to fight off the infection.\n",
        "Antibiotics are usually taken orally in the form of pills, capsules, or liquid solutions, or sometimes administered intravenously.\n",
        "They are not effective against viral infections, and using them inappropriately can lead to antibiotic resistance.\n",
        "\n",
        "Explain the above in a single sentence:\"\"\"\n",
        "\n",
        "print(use_endpoint(prompt, 0.7, 1))\n"
      ],
      "metadata": {
        "colab": {
          "base_uri": "https://localhost:8080/"
        },
        "id": "cBYCqdiEI61P",
        "outputId": "38ea339e-7227-4770-8bde-0180650c564f"
      },
      "execution_count": null,
      "outputs": [
        {
          "output_type": "stream",
          "name": "stdout",
          "text": [
            "Antibiotics are medications that treat bacterial infections by either killing the bacteria or preventing their reproduction, but are not effective against viral infections and misuse can lead to antibiotic resistance.\n",
            "Antibiotics are medications used to treat bacterial infections by either killing the bacteria or preventing their reproduction, but they are not effective against viral infections and misuse can lead to antibiotic resistance.\n"
          ]
        }
      ]
    },
    {
      "cell_type": "markdown",
      "source": [
        "## Question-Answering\n",
        "This section will demonstrate how to frame questions to the model in a way that elicits accurate and useful answers."
      ],
      "metadata": {
        "id": "FwGJUT0UJePf"
      }
    },
    {
      "cell_type": "code",
      "source": [
        "# Example from DAIR.AI\n",
        "prompt = \"\"\"Answer the question based on the context below. Keep the answer short and concise. Respond \"Unsure about answer\" if not sure about the answer.\n",
        "\n",
        "Context: Teplizumab traces its roots to a New Jersey drug company called Ortho Pharmaceutical. There, scientists generated an early version of the antibody, dubbed OKT3.\n",
        "Originally sourced from mice, the molecule was able to bind to the surface of T cells and limit their cell-killing potential.\n",
        "In 1986, it was approved to help prevent organ rejection after kidney transplants, making it the first therapeutic antibody allowed for human use.\n",
        "\n",
        "Question: What was OKT3 originally sourced from?\n",
        "\n",
        "Answer:\"\"\"\n",
        "\n",
        "print(use_endpoint(prompt, 0.5, 1))"
      ],
      "metadata": {
        "colab": {
          "base_uri": "https://localhost:8080/"
        },
        "id": "ek5W-RxoJpE2",
        "outputId": "95e9a0f8-c840-4503-d003-4ea89cedf4cd"
      },
      "execution_count": null,
      "outputs": [
        {
          "output_type": "stream",
          "name": "stdout",
          "text": [
            "Mice\n"
          ]
        }
      ]
    },
    {
      "cell_type": "markdown",
      "source": [
        "## Text Classification\n",
        "Learn how to use ChatGPT for classifying text into predefined categories. This showcases the model's ability to transform unstructured text into structured data."
      ],
      "metadata": {
        "id": "9FiC66vFLCV2"
      }
    },
    {
      "cell_type": "code",
      "source": [
        "# Example from DAIR.AI\n",
        "prompt = \"\"\"Classify the text into neutral, negative or positive.\n",
        "\n",
        "Text: I think the food was okay.\n",
        "\n",
        "Sentiment:\"\"\"\n",
        "\n",
        "print(use_endpoint(prompt, 0.7, 1))"
      ],
      "metadata": {
        "colab": {
          "base_uri": "https://localhost:8080/"
        },
        "outputId": "2b63abb3-d794-44b1-f888-771e0dfe44d4",
        "id": "wRXnyvOpLCV3"
      },
      "execution_count": null,
      "outputs": [
        {
          "output_type": "stream",
          "name": "stdout",
          "text": [
            "Neutral\n"
          ]
        }
      ]
    },
    {
      "cell_type": "markdown",
      "source": [
        "\n",
        "# Advanced Prompting with Zero-shot, One-shot, Few-shot learning\n",
        "This part will dive deeper into the art of prompting. It will explore how to utilize the concepts of zero-shot, one-shot, and few-shot learning to guide the model's output even further. Learn how to provide context through examples to guide the model's behavior."
      ],
      "metadata": {
        "id": "LWC4PoxLAdSy"
      }
    },
    {
      "cell_type": "markdown",
      "source": [
        "## Zero Shot Learning\n",
        "\n",
        "In zero-shot learning, the model generates an output for a specific task without having seen any explicit examples of that task during its training. The model relies solely on its general understanding of language and the specific prompt it's given. This is a challenging scenario, as the model needs to generalize well beyond its training data. This technique is useful when there are no available training examples for a specific task."
      ],
      "metadata": {
        "id": "GC1HKenFv1qw"
      }
    },
    {
      "cell_type": "code",
      "source": [
        "prompt = \"\"\"Show only the empathetic message and nothing else.\n",
        "\n",
        "\n",
        "A customer left a review. We follow up with anyone who appears unhappy.\n",
        "Extract all entities mentioned. For each entity:\n",
        "- classify sentiment as [\"POSITIVE\", \"NEUTRAL\", \"NEGATIVE\"]\n",
        "- whether customer requires a follow-up: Y or N\n",
        "- reason for requiring followup\n",
        "\n",
        "Provide an empathetic message I can\n",
        "send to my customer including the offer to have a call with the relevant\n",
        "product manager to leave feedback. I want to win back their favour and\n",
        "I do not want the customer to churn.\n",
        "\n",
        "Review:\n",
        "The Jivano Crunch Cereal was a huge disappointment. It tasted\n",
        "bland and stale, nothing like the description on the packaging.\n",
        "I wouldn't recommend it to anyone.\"\"\"\n",
        "\n",
        "print(use_endpoint(prompt, 0.5, 1))"
      ],
      "metadata": {
        "id": "OVt1fuvXv1bZ",
        "outputId": "312abd5a-f3a1-4ed3-d76c-e02b0aa3b8aa",
        "colab": {
          "base_uri": "https://localhost:8080/"
        }
      },
      "execution_count": null,
      "outputs": [
        {
          "output_type": "stream",
          "name": "stdout",
          "text": [
            "I'm sorry to hear that you were disappointed with our Jivano Crunch Cereal. Your feedback is important to us and we truly value your opinion. Would you be open to having a call with our product manager to discuss your experience in more detail? We want to make things right and ensure that you have a better experience in the future.\n"
          ]
        }
      ]
    },
    {
      "cell_type": "markdown",
      "source": [
        "## One Shot Learning\n",
        "\n",
        "One-shot learning refers to the situation where the model is provided with a single example of a task at inference time to guide its output. This single example acts as a point of reference for the model, helping it understand what's expected in the output. One-shot learning is useful when you have a limited number of examples for a specific task."
      ],
      "metadata": {
        "id": "ubXLYAtfAjlr"
      }
    },
    {
      "cell_type": "markdown",
      "source": [
        "## Few Shot Learning\n",
        "\n",
        "Few-shot learning involves providing the model with a small number of examples of a task at inference time. These examples serve to guide the model's generation and help it produce the desired output. The idea is that the model can generalize from these few examples to understand and complete the task. This technique is valuable when you have more than one but still a limited number of examples for a task."
      ],
      "metadata": {
        "id": "DOH9ufb4TvmJ"
      }
    },
    {
      "cell_type": "markdown",
      "source": [
        "Basically we are giving some input-output pairs and improve the results. This is the primary fine-tuning method of GPT."
      ],
      "metadata": {
        "id": "pdWNUp4FZDth"
      }
    },
    {
      "cell_type": "markdown",
      "source": [
        "With a basic prompt using ChatGPT."
      ],
      "metadata": {
        "id": "-a8jNtTmZNcz"
      }
    },
    {
      "cell_type": "code",
      "source": [
        "prompt = \"\"\"The odd numbers in this group add up to an odd number: 15, 32, 5, 13, 82, 7, 1.\n",
        "Is this statement True or False?\"\"\"\n",
        "\n",
        "print(use_endpoint(prompt))"
      ],
      "metadata": {
        "colab": {
          "base_uri": "https://localhost:8080/"
        },
        "id": "hw-yqAH_B__p",
        "outputId": "661a09b3-22cf-4194-cfa0-dd0ae026106d"
      },
      "execution_count": null,
      "outputs": [
        {
          "output_type": "stream",
          "name": "stdout",
          "text": [
            "True. \n",
            "\n",
            "The odd numbers in the group are: 15, 5, 13, 7, and 1. \n",
            "Their sum is 15 + 5 + 13 + 7 + 1 = 41, which is an odd number.\n"
          ]
        }
      ]
    },
    {
      "cell_type": "markdown",
      "source": [
        "Basic prompt using GPT-3 model."
      ],
      "metadata": {
        "id": "VqAnIXLZZlxx"
      }
    },
    {
      "cell_type": "markdown",
      "source": [
        "The odd numbers here should add up to 41 and the total numbers should add up to 155."
      ],
      "metadata": {
        "id": "Tzv8ZpoJG0oP"
      }
    },
    {
      "cell_type": "code",
      "source": [
        "prompt = \"\"\"The odd numbers in this group add up to an even number: 15, 32, 5, 13, 82, 7, 1.\"\"\"\n",
        "\n",
        "print(use_endpoint(prompt))"
      ],
      "metadata": {
        "colab": {
          "base_uri": "https://localhost:8080/"
        },
        "outputId": "8606f1f1-815e-4ca5-d452-5b22ce5ff23c",
        "id": "7a57K4bco0U2"
      },
      "execution_count": null,
      "outputs": [
        {
          "output_type": "stream",
          "name": "stdout",
          "text": [
            "The odd numbers in this group are 15, 5, 13, 7, and 1. \n",
            "Adding them up: 15 + 5 + 13 + 7 + 1 = 41, which is an odd number. \n",
            "\n",
            "Therefore, in this group, the odd numbers do not add up to an even number.\n"
          ]
        }
      ]
    },
    {
      "cell_type": "markdown",
      "source": [
        "With few shot learning."
      ],
      "metadata": {
        "id": "vPTsE1zLZ1NH"
      }
    },
    {
      "cell_type": "code",
      "source": [
        "prompt = \"\"\"The odd numbers in this group add up to an even number: 4, 8, 9, 15, 12, 2, 1.\n",
        "A:\n",
        "Step 1: the odd nymbers are 9, 15 and 1\n",
        "Step 2: the addition of odd numbers is 9 + 15 + 1 = 25\n",
        "Step 3: the total is 25 which is odd\n",
        "The answer is False.\n",
        "\n",
        "The odd numbers in this group add up to an even number: 17,  10, 19, 4, 8, 12, 24.\n",
        "A: The answer is True.\n",
        "\n",
        "The odd numbers in this group add up to an even number: 16,  11, 14, 4, 8, 13, 24.\n",
        "A: The answer is True.\n",
        "\n",
        "The odd numbers in this group add up to an even number: 17,  9, 10, 12, 13, 4, 2.\n",
        "A: The answer is False.\n",
        "\n",
        "The odd numbers in this group add up to an even number: 15, 32, 5, 13, 82, 7, 1.\n",
        "A:\"\"\"\n",
        "\n",
        "print(use_endpoint(prompt))"
      ],
      "metadata": {
        "colab": {
          "base_uri": "https://localhost:8080/"
        },
        "id": "xv3VGLQSHpNs",
        "outputId": "862a3ae0-da3f-47d7-fa65-df4ae53705e9"
      },
      "execution_count": null,
      "outputs": [
        {
          "output_type": "stream",
          "name": "stdout",
          "text": [
            "False\n"
          ]
        }
      ]
    },
    {
      "cell_type": "markdown",
      "source": [
        "With Zero-shot Chain of thought."
      ],
      "metadata": {
        "id": "dI2e3bdtajqC"
      }
    },
    {
      "cell_type": "markdown",
      "source": [
        "Ask LLM to think in steps."
      ],
      "metadata": {
        "id": "cOS7YYjIbcYN"
      }
    },
    {
      "cell_type": "markdown",
      "source": [
        "Basic prompt using GPT-3 model."
      ],
      "metadata": {
        "id": "YIy4VhNPaexK"
      }
    },
    {
      "cell_type": "markdown",
      "source": [
        "The answer here should be 10."
      ],
      "metadata": {
        "id": "WLBQlE_AHdAn"
      }
    },
    {
      "cell_type": "code",
      "source": [
        "prompt = \"\"\"I went to the market and bought 10 apples. I gave 2 apples to the neighbor and 2 to the repairman. I then went and bought 5 more apples and ate 1. How many apples did I remain with?\"\"\"\n",
        "\n",
        "print(use_endpoint(prompt))"
      ],
      "metadata": {
        "colab": {
          "base_uri": "https://localhost:8080/"
        },
        "outputId": "ca2a0238-7f5d-41dd-b8b9-11d366f2ebac",
        "id": "UrGwGG5hrsCS"
      },
      "execution_count": null,
      "outputs": [
        {
          "output_type": "stream",
          "name": "stdout",
          "text": [
            "You started with 10 apples, gave away 4, bought 5 more, and ate 1. \n",
            "\n",
            "So, you remained with 10 - 4 + 5 - 1 = 10 apples. \n",
            "\n",
            "Therefore, you remained with 10 apples.\n"
          ]
        }
      ]
    },
    {
      "cell_type": "code",
      "source": [
        "prompt = \"\"\"I went to the market and bought 10 apples. I gave 2 apples to the neighbor and 2 to the repairman. I then went and bought 5 more apples and ate 1. How many apples did I remain with?\n",
        "\n",
        "Let's think step by step.\"\"\"\n",
        "\n",
        "print(use_endpoint(prompt))"
      ],
      "metadata": {
        "colab": {
          "base_uri": "https://localhost:8080/"
        },
        "outputId": "ebd6ed25-0d44-4b63-911f-95a96c962c82",
        "id": "v3RSCA4pr1ZN"
      },
      "execution_count": null,
      "outputs": [
        {
          "output_type": "stream",
          "name": "stdout",
          "text": [
            "1. Initially, you bought 10 apples.\n",
            "2. You gave 2 apples to the neighbor and 2 to the repairman, so you have 10 - 2 - 2 = 6 apples remaining.\n",
            "3. You then bought 5 more apples, so you have 6 + 5 = 11 apples.\n",
            "4. After eating 1 apple, you have 11 - 1 = 10 apples remaining.\n",
            "\n",
            "Therefore, you remained with 10 apples.\n"
          ]
        }
      ]
    },
    {
      "cell_type": "markdown",
      "source": [
        "ChatGPT latest version is improved with CoT itself."
      ],
      "metadata": {
        "id": "sInIr1zhsWFG"
      }
    },
    {
      "cell_type": "code",
      "source": [
        "prompt = \"\"\"I went to the market and bought 10 apples. I gave 2 apples to the neighbor and 2 to the repairman. I then went and bought 5 more apples and ate 1. How many apples did I remain with?\"\"\"\n",
        "\n",
        "print(use_endpoint(prompt))"
      ],
      "metadata": {
        "colab": {
          "base_uri": "https://localhost:8080/"
        },
        "id": "Yo2omdkFedGw",
        "outputId": "582a605a-7264-4859-9de1-0541061ce2eb"
      },
      "execution_count": null,
      "outputs": [
        {
          "output_type": "stream",
          "name": "stdout",
          "text": [
            "You initially had 10 apples. After giving 2 to the neighbor and 2 to the repairman, you had 6 left. \n",
            "\n",
            "Then you bought 5 more apples, bringing the total to 11. After eating 1 apple, you remained with 10 apples.\n"
          ]
        }
      ]
    },
    {
      "cell_type": "markdown",
      "source": [
        "## Few Shot Learning another perspective"
      ],
      "metadata": {
        "id": "pM6_axHV0wRm"
      }
    },
    {
      "cell_type": "markdown",
      "source": [
        "Using ChatGPT we can get correct answers with basic prompting even."
      ],
      "metadata": {
        "id": "yotDD2lncb1e"
      }
    },
    {
      "cell_type": "code",
      "source": [
        "prompt = \"\"\"When I was 6 my sister was half my age. Now I’m 70 how old is my sister?\"\"\"\n",
        "print(use_endpoint(prompt,model=\"gpt-3.5-turbo\"))"
      ],
      "metadata": {
        "colab": {
          "base_uri": "https://localhost:8080/"
        },
        "outputId": "d0c83a8f-3c72-433b-8c53-c97712d681d1",
        "id": "S3lgn1FHslDU"
      },
      "execution_count": null,
      "outputs": [
        {
          "output_type": "stream",
          "name": "stdout",
          "text": [
            "Your sister is 67 years old.\n"
          ]
        }
      ]
    },
    {
      "cell_type": "code",
      "source": [
        "prompt = \"\"\"Q: There are 15 trees in the grove. Grove workers will plant trees in the grove today. After they are done,\n",
        "there will be 21 trees. How many trees did the grove workers plant today?\n",
        "A: We start with 15 trees. Later we have 21 trees. The difference must be the number of trees they planted.\n",
        "So, they must have planted 21 - 15 = 6 trees. The answer is 6.\n",
        "\n",
        "Q: If there are 3 cars in the parking lot and 2 more cars arrive, how many cars are in the parking lot?\n",
        "A: There are 3 cars in the parking lot already. 2 more arrive. Now there are 3 + 2 = 5 cars. The answer is 5.\n",
        "\n",
        "Q: Leah had 32 chocolates and her sister had 42. If they ate 35, how many pieces do they have left in total?\n",
        "A: Leah had 32 chocolates and Leah’s sister had 42. That means there were originally 32 + 42 = 74\n",
        "chocolates. 35 have been eaten. So in total they still have 74 - 35 = 39 chocolates. The answer is 39.\n",
        "\n",
        "Q: Jason had 20 lollipops. He gave Denny some lollipops. Now Jason has 12 lollipops. How many lollipops\n",
        "did Jason give to Denny?\n",
        "A: Jason had 20 lollipops. Since he only has 12 now, he must have given the rest to Denny. The number of\n",
        "lollipops he has given to Denny must have been 20 - 12 = 8 lollipops. The answer is 8.\n",
        "\n",
        "Q: Shawn has five toys. For Christmas, he got two toys each from his mom and dad. How many toys does\n",
        "he have now?\n",
        "A: He has 5 toys. He got 2 from mom, so after that he has 5 + 2 = 7 toys. Then he got 2 more from dad, so\n",
        "in total he has 7 + 2 = 9 toys. The answer is 9.\n",
        "\n",
        "Q: There were nine computers in the server room. Five more computers were installed each day, from\n",
        "monday to thursday. How many computers are now in the server room?\n",
        "A: There are 4 days from monday to thursday. 5 computers were added each day. That means in total 4 * 5 =\n",
        "20 computers were added. There were 9 computers in the beginning, so now there are 9 + 20 = 29 computers.\n",
        "The answer is 29.\n",
        "\n",
        "Q: Michael had 58 golf balls. On tuesday, he lost 23 golf balls. On wednesday, he lost 2 more. How many\n",
        "golf balls did he have at the end of wednesday?\n",
        "A: Michael initially had 58 balls. He lost 23 on Tuesday, so after that he has 58 - 23 = 35 balls. On\n",
        "Wednesday he lost 2 more so now he has 35 - 2 = 33 balls. The answer is 33.\n",
        "\n",
        "Q: Olivia has $23. She bought five bagels for $3 each. How much money does she have left?\n",
        "A: She bought 5 bagels for $3 each. This means she spent 5\n",
        "\n",
        "Q: When I was 6 my sister was half my age. Now I’m 70 how old is my sister?\n",
        "A:\"\"\"\n",
        "print(use_endpoint(prompt,model=\"gpt-3.5-turbo\"))"
      ],
      "metadata": {
        "colab": {
          "base_uri": "https://localhost:8080/"
        },
        "outputId": "3f36f66d-8de8-4f51-f52f-9a167d95cb8e",
        "id": "u59yBWmQbh2Z"
      },
      "execution_count": null,
      "outputs": [
        {
          "output_type": "stream",
          "name": "stdout",
          "text": [
            "When you were 6, your sister was half your age which means she was 3 years old. The age difference between you and your sister is always 3 years. Since you are now 70, your sister would be 70 - 3 = 67 years old.\n"
          ]
        }
      ]
    },
    {
      "cell_type": "code",
      "source": [
        "prompt = \"\"\"When I was 6 my sister was half my age. Now I’m 70 how old is my sister?\"\"\"\n",
        "print(use_endpoint(prompt))"
      ],
      "metadata": {
        "colab": {
          "base_uri": "https://localhost:8080/"
        },
        "id": "tXGn5atpnp1u",
        "outputId": "1036176a-571d-4639-fb86-45be20eea1a7"
      },
      "execution_count": null,
      "outputs": [
        {
          "output_type": "stream",
          "name": "stdout",
          "text": [
            "If you were 6 and your sister was half your age, she would have been 3 at that time. Now that you are 70, your sister would be 67 years old.\n"
          ]
        }
      ]
    }
  ]
}